{
 "cells": [
  {
   "cell_type": "code",
   "execution_count": 1,
   "metadata": {},
   "outputs": [
    {
     "name": "stdout",
     "output_type": "stream",
     "text": [
      "Number percent values: [[0.09992295 0.09885357 0.10031158 0.0979882  0.09961207 0.10073026\n",
      "  0.10082266 0.1009755  0.10049679 0.10028643]]\n",
      "1.0\n"
     ]
    }
   ],
   "source": [
    "import numpy as np\n",
    "import sys\n",
    "\n",
    "\n",
    "\n",
    "class NueralNetwork:\n",
    "    def __init__(self, input_size,hidden_layers=[512,512],output_size=10):\n",
    "        self.input_size= input_size\n",
    "        self.hidden_layers=hidden_layers\n",
    "        self.output_size= output_size\n",
    "        self.weights=[]\n",
    "        self.biases=[]\n",
    "        #input to hidden layers network\n",
    "        self.weights.append(0.01*np.random.randn(input_size,hidden_layers[0]))\n",
    "        self.biases.append(np.zeros((1,hidden_layers[0])))\n",
    "\n",
    "        #hidden layer network\n",
    "        for i in range(len(hidden_layers)-1):\n",
    "            self.weights.append(0.01*np.random.randn(hidden_layers[i],hidden_layers[i+1]))\n",
    "            self.biases.append(np.zeros((1,hidden_layers[i+1])))\n",
    "        #hidden layers network to output\n",
    "        self.weights.append(0.01*np.random.randn(hidden_layers[len(hidden_layers)-1],output_size))\n",
    "        self.biases.append(np.zeros((1,output_size)))\n",
    "    def forward(self, inputs):\n",
    "        layers=[inputs]\n",
    "        for i in range(len(self.weights)-1):\n",
    "            dp=np.dot(layers[-1],self.weights[i])+self.biases[i]\n",
    "            activation = np.maximum(0, dp)\n",
    "            layers.append(activation)\n",
    "        dp = np.dot(layers[-1], self.weights[-1]) + self.biases[-1]\n",
    "        layers.append(dp)\n",
    "        \n",
    "        return layers[-1]\n",
    "    def softmax(self,values):   \n",
    "        exp_values = np.exp(values)\n",
    "        exp_values_sum = np.sum(exp_values)\n",
    "        return exp_values/exp_values_sum\n",
    "        \n",
    "        \n",
    "        \n",
    "\n",
    "    \n",
    "\n",
    "input_size = 784  \n",
    "aaa = NueralNetwork(input_size=input_size)\n",
    "inputs = np.random.randn(1, input_size)\n",
    "                                  \n",
    "unrealised = aaa.forward(inputs)\n",
    "output=aaa.softmax(unrealised)\n",
    "print(\"Number percent values:\", output)\n",
    "print(np.sum(output))"
   ]
  },
  {
   "cell_type": "code",
   "execution_count": null,
   "metadata": {},
   "outputs": [],
   "source": []
  }
 ],
 "metadata": {
  "kernelspec": {
   "display_name": "Python 3",
   "language": "python",
   "name": "python3"
  },
  "language_info": {
   "codemirror_mode": {
    "name": "ipython",
    "version": 3
   },
   "file_extension": ".py",
   "mimetype": "text/x-python",
   "name": "python",
   "nbconvert_exporter": "python",
   "pygments_lexer": "ipython3",
   "version": "3.12.5"
  }
 },
 "nbformat": 4,
 "nbformat_minor": 2
}
